{
 "cells": [
  {
   "cell_type": "markdown",
   "id": "236c502e",
   "metadata": {},
   "source": [
    "<span > <font size=\"100\" style=\"color:red\"> This is my first Jupyter notebook <font size=\"100\"> </span>"
   ]
  },
  {
   "cell_type": "code",
   "execution_count": 8,
   "id": "2d0790cb",
   "metadata": {},
   "outputs": [
    {
     "name": "stdout",
     "output_type": "stream",
     "text": [
      "My name is Lynn Yin\n"
     ]
    }
   ],
   "source": [
    "print(\"My name is Lynn Yin\")"
   ]
  }
 ],
 "metadata": {
  "kernelspec": {
   "display_name": "base",
   "language": "python",
   "name": "python3"
  },
  "language_info": {
   "codemirror_mode": {
    "name": "ipython",
    "version": 3
   },
   "file_extension": ".py",
   "mimetype": "text/x-python",
   "name": "python",
   "nbconvert_exporter": "python",
   "pygments_lexer": "ipython3",
   "version": "3.13.5"
  }
 },
 "nbformat": 4,
 "nbformat_minor": 5
}
